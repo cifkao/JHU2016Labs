{
 "cells": [
  {
   "cell_type": "code",
   "execution_count": null,
   "metadata": {
    "collapsed": false
   },
   "outputs": [],
   "source": [
    "import numpy as np\n",
    "import jhu2016_labs.plotting as plotting\n",
    "import jhu2016_labs.models as models\n",
    "\n",
    "%matplotlib inline"
   ]
  },
  {
   "cell_type": "markdown",
   "metadata": {},
   "source": [
    "## Training data \n",
    "\n",
    "In real scenario, we  observed a set of values, often called features, and we try to learn some model that can \"explain\" the observed features. Generally, we do not know the true distribution of the features. For this work we will simulate a set of single dimensional features sampled from a GMM. We will call this GMM the \"true model\" and in this notebook we will see different strategies to approximate the true model from the simulated training data.    "
   ]
  },
  {
   "cell_type": "code",
   "execution_count": null,
   "metadata": {
    "collapsed": false
   },
   "outputs": [],
   "source": [
    "true_model = models.GMM([-4, 0, 2], [1, 2, .7], [0.2, 0.2, 0.6])\n",
    "X = true_model.sampleData(50)\n",
    "Y = np.zeros_like(X) # The random variable has a single dimension !\n",
    "x_min = -8\n",
    "x_max = 7\n",
    "y_min = -0.01\n",
    "y_max = .4\n",
    "fig, ax = plotting.plotGMM(true_model, x_min=x_min, x_max=x_max, y_min=y_min, y_max=y_max, \n",
    "                           label='True model')\n",
    "ax.plot(X, Y, '+', color='b', label='data')\n",
    "ax.legend(loc='upper left')"
   ]
  },
  {
   "cell_type": "markdown",
   "metadata": {},
   "source": [
    "## Gaussian density \n",
    "\n",
    "We can first try to model the observed data with a Gaussian density function. The Gaussian density function is defined as:\n",
    "$$\n",
    "\\DeclareMathOperator{\\Norm}{\\mathcal{N}}\n",
    "\\DeclareMathOperator{\\Gam}{Gam}\n",
    "\\DeclareMathOperator{\\e}{exp}\n",
    "p(x \\mid \\mu, \\sigma^2) = \\Norm(x \\mid \\mu, \\sigma^2) = \\frac{1}{\\sqrt{2\\pi\\sigma^2}} \\e\\{ \\frac{-(x - \\mu)^2}{2\\sigma^2} \\}\n",
    "$$\n",
    "* $\\mu$ is the **mean** of the Gaussian density \n",
    "* $\\sigma^2$ is the **variance** of the Gaussian density\n",
    "\n",
    "\n",
    "##### TODO\n",
    "Try to play with the mean and the variance of the Gaussian. How each parameter change the density ?"
   ]
  },
  {
   "cell_type": "code",
   "execution_count": null,
   "metadata": {
    "collapsed": false,
    "scrolled": false
   },
   "outputs": [],
   "source": [
    "gaussian = models.Gaussian(0., 1.) # <- 1st parameter is mean, second variance0\n",
    "fig, ax = plotting.plotGaussian(gaussian)"
   ]
  },
  {
   "cell_type": "markdown",
   "metadata": {},
   "source": [
    "Alternatively, the Gaussian density function can be parameterized with a precision $\\lambda$ which is the inverse of the variance:\n",
    "$$\n",
    "    \\DeclareMathOperator{\\e}{exp}\n",
    "    p(x | \\mu, \\lambda) = \\Norm(x \\mid \\mu, \\lambda^{-1}) = \\frac{\\sqrt{\\lambda}}{\\sqrt{2\\pi}} \\e\\{ \\frac{-\\lambda(x - \\mu)^2}{2} \\}\n",
    "$$\n",
    "* $\\mu$ is the **mean** of the Gaussian density \n",
    "* $\\lambda = \\frac{1}{\\sigma^2}$ is the **precision** of the Gaussian density\n",
    "\n",
    "This alternative parameterization will prove to be useful when dealing with Bayesian inference for the Gaussian/GMM density."
   ]
  },
  {
   "cell_type": "markdown",
   "metadata": {},
   "source": [
    "### Maximum Likelihood estimation\n",
    "\n",
    "We will first try to model our data with a simple Gaussian. We need to find the parameters (mean and variance) that fit the best the data. \n",
    "\n",
    "$$\n",
    "\\begin{align}\n",
    "\\mu &= \\frac{1}{N} \\sum_i x_i \\\\\n",
    "\\sigma^2 &= \\frac{1}{N} \\sum_i x_i^2\n",
    "\\end{align}\n",
    "$$\n",
    "\n",
    "##### TODO\n",
    "From the above equations, implement the maximum-likelihood solution for the Gaussian. Does the Gaussian seems to be a good model for the true density ?"
   ]
  },
  {
   "cell_type": "code",
   "execution_count": null,
   "metadata": {
    "collapsed": false
   },
   "outputs": [],
   "source": [
    "##########################\n",
    "# Write your code here. \n",
    "mean_ml = \n",
    "var_ml = \n",
    "##########################\n",
    "\n",
    "# Check your solutions uncomment the following code\n",
    "test_gaussian_ml = models.Gaussian.maximumLikelihood(X)\n",
    "assert np.isclose(test_gaussian_ml.mean, mean_ml), 'incorrect mean'\n",
    "assert np.isclose(test_gaussian_ml.var, var_ml), 'incorrect variance'\n",
    "print('correct solution !')\n",
    "gaussian_ml = models.Gaussian(mean_ml, var_ml)\n",
    "llh = gaussian_ml.logLikelihood(X)\n",
    "print('log-likelihood:', llh)\n",
    "\n",
    "y_min = -.01\n",
    "y_max = .4\n",
    "fig, ax = plotting.plotGMM(true_model, y_min=y_min, y_max=y_max, label='True model')\n",
    "plotting.plotGaussian(gaussian_ml, fig=fig, ax=ax, color='red', label='Gaussian ML')\n",
    "ax.plot(X, Y, '+', color='b', label='data')\n",
    "ax.legend(loc='upper left')"
   ]
  },
  {
   "cell_type": "markdown",
   "metadata": {},
   "source": [
    "### Bayesian Inference\n",
    "\n",
    "We can work within the Bayesian framework with the Gaussian density by putting a prior over the mean and precision. A common an convenient choice of prior for the Gaussian is the **Normal-Gamma** prior:\n",
    "\n",
    "$$\n",
    "p(\\mu, \\lambda \\mid m_0, \\kappa_0, a_0, b_0) = \\Norm(\\mu \\mid m_0, (\\kappa_0 \\lambda)^{-1}) \\Gam(\\lambda \\mid a_0, b_0)\n",
    "$$\n",
    "\n",
    "where:\n",
    "\n",
    "$$\n",
    "\\Gam(\\lambda \\mid a_0, b_0) = \\frac{1}{\\Gamma(a_0)} b_0^{a_0} \\lambda^{a_0 - 1} \\e \\{ -b_0 \\lambda\\}\n",
    "$$\n",
    "\n",
    "$m_0$, $\\kappa_0$, $a_0$ and $b_0$ are called **hyper-parameters**. They are the parameters of the prior distribution.\n",
    "\n",
    "##### TODO\n",
    "Play with the parameters of the Normal-Gamma. How each parameter affects the density ?"
   ]
  },
  {
   "cell_type": "code",
   "execution_count": null,
   "metadata": {
    "collapsed": false
   },
   "outputs": [],
   "source": [
    "ng_prior = models.NormalGamma(0, 2, 5, 6)\n",
    "x_min =-2.\n",
    "x_max = 2.\n",
    "y_min = 0.\n",
    "y_max = 2\n",
    "plotting.plotNormalGamma(ng_prior, x_min=x_min, x_max=x_max, y_min=y_min, y_max=y_max)"
   ]
  },
  {
   "cell_type": "markdown",
   "metadata": {},
   "source": [
    "Because the Normal-Gamma is the **conjugate prior** of the Normal density, the posterior distribution $p(\\mu, \\lambda \\mid \\mathbf{x})$ has a closed form solution:\n",
    "\n",
    "$$\n",
    "p(\\mu, \\lambda \\mid \\mathbf{x}) = \\Norm(\\mu \\mid m_n, (\\kappa_n \\lambda)^{-1}) \\Gam(\\lambda \\mid a_n, b_n)\n",
    "$$\n",
    "\n",
    "where:\n",
    "\n",
    "$$\n",
    "\\begin{align}\n",
    "m_n &= \\frac{\\kappa_0 m_0 + N \\bar{x}} {\\kappa_0 +  N} \\\\\n",
    "\\kappa_n &= \\kappa_0 + N \\\\\n",
    "a_n &= a_0 + \\frac{N}{2} \\\\\n",
    "b_n &= b_0 + \\frac{N}{2} ( s + \\frac{\\kappa_0 (\\bar{x} - m_0)^2}{\\kappa_0 + N} ) \\\\\n",
    "\\bar{x} &= \\frac{1}{N} \\sum_i x_i \\\\\n",
    "s &= \\frac{1}{N} \\sum_i (x_i - \\bar{x})^2\n",
    "\\end{align}\n",
    "$$\n",
    "\n",
    "$N$ is the total number of point in the the training data and $m_n$, $\\kappa_n$, $a_n$ and $b_n$ are the parameters of the posterior. Note that they are different from the hyper-parameters !! \n",
    "\n",
    "##### TODO\n",
    "Compute the posterior distribution with 1, 5, 10, 20 and 50  data points from the training data. What do you observe ?"
   ]
  },
  {
   "cell_type": "code",
   "execution_count": null,
   "metadata": {
    "collapsed": false
   },
   "outputs": [],
   "source": [
    "ng_prior = models.NormalGamma(0, 2, 5, 6)\n",
    "ng_posterior = ng_prior.posterior(X[:1]) # <- Change '1' to the number of sample you want to use \n",
    "x_min =-2\n",
    "x_max = 2\n",
    "y_min = 0.\n",
    "y_max = 2\n",
    "plotting.plotNormalGamma(ng_posterior, x_min=x_min, x_max=x_max, y_min=y_min, y_max=y_max)"
   ]
  },
  {
   "cell_type": "markdown",
   "metadata": {},
   "source": [
    "### Predictive probability\n",
    "\n",
    "Now that we have our posterior distibution we can predict the probability of a new data point given the training data:\n",
    "\n",
    "$$\n",
    "p(x' \\mid \\mathbf{x}) = \\int p(x' \\mid \\theta) p(\\theta \\mid \\mathbf{x}) d \\theta\n",
    "$$\n",
    "\n",
    "For the Gaussian with Normal-Gamma prior the marginal predictive distribution is the Student's t distribution:\n",
    "\n",
    "$$\n",
    "\\newcommand{\\diff}{\\mathop{}\\!d}\n",
    "\\DeclareMathOperator{\\St}{\\mathcal{St}}\n",
    "p(x' \\mid \\mathbf{x}) = \\int_{-\\infty}^{\\infty} p(x|\\mu, \\lambda) p(\\mu, \\lambda \\mid \\mathbf{x}) \\diff \\mu \\diff \\lambda  = \\St(x' \\mid \\mu_n, \\nu, \\gamma)\n",
    "$$\n",
    "\n",
    "where:\n",
    "\n",
    "$$\n",
    "\\begin{align}\n",
    "\\nu &= 2a_n \\\\\n",
    "\\gamma &= \\frac{a_n \\kappa_n}{b_n(\\kappa_n + 1)} \\\\\n",
    "\\St(x' \\mid \\mu_n, \\nu, \\gamma) &= \\frac{\\Gamma(\\frac{\\nu}{2} + \\frac{1}{2})}{\\Gamma(\\frac{\\nu}{2})} \\Big( \\frac{\\gamma}{\\pi \\nu} \\Big)^{\\frac{1}{2}} \\Big[ 1 + \\frac{\\gamma (x - \\mu_n)^2}{\\nu} \\Big]^{-\\frac{\\nu}{2} - \\frac{1}{2}}\n",
    "\\end{align}\n",
    "$$\n",
    "\n",
    "##### TODO\n",
    "Compute the log-likelihood of the predictive distribution derived from a posterior trained with 1, 5, 10, 20  and 50 data points. How does it compare to the log-likelihood of the Gaussian trained with maximum likelihood ?"
   ]
  },
  {
   "cell_type": "code",
   "execution_count": null,
   "metadata": {
    "collapsed": false
   },
   "outputs": [],
   "source": [
    "ng_posterior = ng_prior.posterior(X[:1]) # <- Change '1' by the number of sample you want to use.\n",
    "predict_pdf = ng_posterior.predictiveDensity()  \n",
    "llh = predict_pdf.logLikelihood(X)\n",
    "print('log-likelihood:', llh)"
   ]
  },
  {
   "cell_type": "markdown",
   "metadata": {},
   "source": [
    "## Gaussian Mixture Model (GMM)\n",
    "\n",
    "The Gaussian density is a very simple function, however, in most cases of interest the density we try to model has a complex shape that cannot be expressed with a simple formula. A solution is to assume that our complex density is made of $K$ Gaussian densities. This is called a Gaussian Mixture Model (GMM) and it is defined as:\n",
    "$$\n",
    "    p(x|\\boldsymbol{\\mu}, \\boldsymbol{\\lambda}, \\boldsymbol{\\pi}) = \\sum_{k=1}^{K} \\pi_k \\Norm(x|\\mu_k, (\\lambda_k)^{-1})\n",
    "$$\n",
    "* $\\boldsymbol{\\mu}$ is the vector of $K$ means\n",
    "* $\\boldsymbol{\\lambda}$ is the vector of $K$ precisions\n",
    "* $\\boldsymbol{\\pi}$ is the vector of $K$ weights such that $\\sum_{k=1}^K \\pi_k = 1$ \n",
    "\n",
    "##### TODO\n",
    "Observe the influence of each parameters on the density and add/remove some components. Does this model suffer of the same drawbacks of the Gaussian density ?"
   ]
  },
  {
   "cell_type": "code",
   "execution_count": null,
   "metadata": {
    "collapsed": false
   },
   "outputs": [],
   "source": [
    "# Change the initial values of the parameters. \n",
    "# you can add a component by removing a mean, a variance \n",
    "# and a weight. All arrays shall always have the same number \n",
    "# of elements ! Be careful, make sure that the sum of weight \n",
    "# always sum up to one.\n",
    "means = [-4.0, 0.0, 4.0, 5]\n",
    "variances = [1.0, 2.0, 1.4, 1]\n",
    "weights = [0.1, 0.4, 0.2, 0.3]\n",
    "gmm = models.GMM(means, variances, weights)\n",
    "\n",
    "y_min = 0.\n",
    "y_max = .3\n",
    "plotting.plotGMM(gmm, show_components=True, y_min=y_min, y_max=y_max)"
   ]
  },
  {
   "cell_type": "markdown",
   "metadata": {},
   "source": [
    "## Maximum Likelihood estimation\n",
    "\n",
    "The GMM parameters can be estimated with the **Expectation-Maximization** (EM) algorithm. The EM algorithm is an iterative algorithm that converges toward a (local) maximum of the log-likelihood of the data given the model. The EM training is as follows:\n",
    "* initialize the parameters of the GMM \n",
    "* iterate until convergence:\n",
    "    * Expectation (E-step): compute the probability of the latent variable for each data point\n",
    "    * Maximization (M-step): update the parameters from the statistics of the E-step. \n",
    "\n",
    "##### TODO\n",
    "* We have implemented a simple version of the EM algorithm that iterates 10 times. Change the following code to iterates until convergence of the log-likelihood. We will consider that the log-liklihood has converged if $ \\log p(\\mathbf{x} | \\theta^{new}) - \\log p(\\mathbf{x} | \\theta^{old}) \\le 0.01$. \n",
    "* Run the EM algorithm with different initialization: is the final log-likelihood always the same ? What can you conclude ? Is the log-likelihood greater than the one from the Gaussian estimated with Maximum-Likelihood ?"
   ]
  },
  {
   "cell_type": "code",
   "execution_count": null,
   "metadata": {
    "collapsed": false
   },
   "outputs": [],
   "source": [
    "# Initialization of the model\n",
    "means = [-4.0, 0.0, 4.0]\n",
    "variances = [1.0, 1.0, 1.]\n",
    "weights = [0.3, 0.4, 0.3]\n",
    "gmm = models.GMM(means, variances, weights)\n",
    "\n",
    "## EM algorithm\n",
    "print('initial log-likelihood:', gmm.logLikelihood(X))\n",
    "############################################\n",
    "# Change this loop to check the convergence of the EM .\n",
    "for i in range(10):\n",
    "    # E-step\n",
    "    Z = gmm.EStep(X)\n",
    "    \n",
    "    # M-step\n",
    "    gmm.MStep(X, Z)\n",
    "    \n",
    "    llh = gmm.logLikelihood(X)\n",
    "    print('log-likelihood:', llh)\n",
    "##############################################\n",
    "\n",
    "y_min = -0.01\n",
    "y_max = .4\n",
    "fig, ax = plotting.plotGMM(true_model, y_min=y_min, y_max=y_max, label='True model')\n",
    "plotting.plotGMM(gmm, fig=fig, ax=ax, color='r', label='GMM EM')\n",
    "ax.plot(X, Y, '+', color='b', label='data')\n",
    "ax.legend(loc='upper left')"
   ]
  },
  {
   "cell_type": "markdown",
   "metadata": {},
   "source": [
    "## Bayesian GMM\n",
    "\n",
    "We can also work the Bayesian inference for GMM by putting a prior over the GMM parameters. Let $\\Theta$ be the set of parameters of the GMM:\n",
    "$$\n",
    "\\Theta = \\{ \\boldsymbol{\\mu}, \\boldsymbol{\\lambda}, \\boldsymbol{\\pi} \\}\n",
    "$$\n",
    "\n",
    "The prior over the weights $\\boldsymbol{\\pi}$ will be a Dirichlet distribution:\n",
    "\n",
    "$$\n",
    "\\DeclareMathOperator{\\Dir}{Dir}\n",
    "p(\\boldsymbol{\\pi}) = \\Dir(\\boldsymbol{\\pi} \\mid \\boldsymbol{\\alpha}_0)\n",
    "$$\n",
    "\n",
    "and the prior of the mean and precision of the component $k$ of the mixture will be a Normal-Gamma distribution:\n",
    "\n",
    "$$\n",
    "p(\\mu_k, \\lambda_k) = \\Norm(\\mu_k \\mid m_0, (\\kappa_0 \\lambda_k)^{-1}) \\Gam(\\lambda_k \\mid a_0, b_0)\n",
    "$$\n",
    "\n",
    "The joint distribution of the data, the latent variables and the parameters can be written as:\n",
    "\n",
    "$$\n",
    "\\begin{align}\n",
    "p(\\mathbf{x}, \\mathbf{z}, \\Theta) &= p(\\mathbf{x}, \\mathbf{z} \\mid \\Theta)p(\\Theta) \\\\\n",
    "                      &= \\Bigg[ \\prod_{i=0}^{N} p(x_i \\mid \\boldsymbol{\\mu}, \\boldsymbol{\\lambda}, \\boldsymbol{\\pi}) \\Bigg] \\Bigg[ \\Dir(\\boldsymbol{\\pi} \\mid \\boldsymbol{\\alpha}_0) \\prod_{k=0}^{K} \\Norm(\\mu_k \\mid m_0, (\\kappa_0 \\lambda_k)^{-1}) \\Gam(\\lambda_k \\mid a_0, b_0) \\Bigg]\n",
    "\\end{align}\n",
    "$$\n",
    "\n",
    "### Gibbs Sampling:\n",
    "\n",
    "The EM algorithm cannot be applied directly to train the Bayesian GMM. Instead, we will use Gibbs Sampling (GS) to learn the posterior distribution of the parameters. Gibbs Sampling is a simple way to sample values from a complex distribution. Let's say that we want to sample values for the random variable $A$ and $B$ conditioned on $C$. Unfortunately, $p(A, B \\mid C)$ is too complex to be sampled from directly. Alternatively we can sample in turn $a$ from $p(A | B = b, C)$ and $b$ from $p(B | A=a, C)$. It can be proven that if we keep sampling  long enough, the set of  $a$ and $b$  will be distributed according to $p(A, B | C)$. This is the Gibbs Sampling algorithm. \n",
    "\n",
    "NOTE: Gibbs Sampling is not always applicable as we cannot always sample from the conditional distributions (it may be intractable).\n",
    "\n",
    "In the following we just show the 3 conditional distributions we need for the Gibbs Sampling of the Bayesian GMM.\n",
    "\n",
    "\n",
    "##### latent variable $z_i$\n",
    "$$\n",
    "\\begin{align}\n",
    "p(z_i \\mid \\mathbf{x}, \\Theta) &= p(z_i \\mid x_i, \\boldsymbol{\\pi}, \\boldsymbol{\\mu}, \\boldsymbol{\\lambda}) \\\\\n",
    "p(z_i = k \\mid x_i, \\boldsymbol{\\pi}, \\boldsymbol{\\mu}, \\boldsymbol{\\lambda}) &= \\frac{\\pi_k \\Norm(x_i \\mid \\mu_k, \\lambda_k)} {\\sum_{j=0}^{K} \\pi_j \\Norm(x_i \\mid \\mu_j, \\lambda_j)}\n",
    "\\end{align}\n",
    "$$\n",
    "\n",
    "###### mean and variance \n",
    "We define the set of all data point $x_i$  that are assigned to the component $k$ of the mixture as follows:\n",
    "$$\n",
    "\\mathbf{x}_{(k)} = \\{ x_i : z_i = k, \\forall i \\in \\{1,... , N \\} \\} \n",
    "$$\n",
    "and similarly for the latent variables $\\mathbf{z}$:\n",
    "$$\n",
    "\\mathbf{z}_{(k)} = \\{ z_i : z_i = k, \\forall i \\in \\{1,... , N \\} \\} \n",
    "$$\n",
    "\n",
    "$$\n",
    "\\begin{align}\n",
    "p(\\mu_k, \\lambda_k \\mid \\mathbf{x}, \\mathbf{z}, \\Theta_{\\smallsetminus \\{ \\mu_k, \\lambda_k \\} } ) &= p(\\mu_k, \\lambda_k \\mid \\mathbf{x}_{(k)}, \\mathbf{z}_{(k)}, \\Theta_{\\smallsetminus \\{ \\mu_k, \\lambda_k \\} } ) \\\\\n",
    "&= \\Norm(\\mu_k \\mid m_{n,k}, (\\kappa_{n,k} \\lambda_k)^{-1}) \\Gam(\\lambda_k \\mid a_{n,k}, b_{n,k})\n",
    "\\end{align}\n",
    "$$\n",
    "\n",
    "where:\n",
    "\n",
    "$$\n",
    "\\begin{align}\n",
    "m_{n,k} &= \\frac{\\kappa_0 m_0 + N_k \\bar{x}_k} {\\kappa_0 +  N_k} \\\\\n",
    "\\kappa_{n,k} &= \\kappa_0 + N_k \\\\\n",
    "a_{n,k} &= a_0 + \\frac{N_k}{2} \\\\\n",
    "b_{n,k} &= b_0 + \\frac{N_k}{2} ( s + \\frac{\\kappa_0 (\\bar{x}_k - m_0)^2}{\\kappa_0 + N_k} ) \\\\\n",
    "N_k &= \\left\\vert \\mathbf{x}_{(k)} \\right\\vert \\\\\n",
    "\\bar{x}_k &= \\frac{1}{N_k} \\sum_{\\forall x \\in \\mathbf{x}_{(k)}} x \\\\\n",
    "s_n &= \\frac{1}{N} \\sum_{\\forall x \\in \\mathbf{x}_{(k)}} (x_i - \\bar{x})^2\n",
    "\\end{align}\n",
    "$$\n",
    "\n",
    "NOTE: these equations are very similar to the Bayesian Gaussian estimate. However, it remains some difference\n",
    "\n",
    "##### weights\n",
    "\n",
    "$$\n",
    "\\begin{align}\n",
    "p( \\boldsymbol{\\pi} \\mid \\mathbf{x}, \\mathbf{z}, \\Theta_{\\smallsetminus \\{ \\boldsymbol{\\pi} \\} } ) &= p( \\boldsymbol{\\pi} \\mid \\mathbf{z}) \\\\\n",
    "&= \\Dir(\\boldsymbol{\\pi} \\mid \\boldsymbol{\\alpha})\n",
    "\\end{align}\n",
    "$$\n",
    "where:\n",
    "$$\n",
    "\\alpha_{n,k} = \\alpha_{0,k} + N_k \\; ; \\; \\forall \\, k = 1\\dots K \n",
    "$$\n",
    "\n",
    "##### TODO\n",
    "* Compare the following implementation of the Gibbs Sampling to the EM algorithm. What are their differences/similarities ?\n",
    "* Run the Gibbs Sampling algorithm for 1, 2, 5, 10, 20, ... iterations. How many iterations do we need to get a reasonable estimate of the true density ?\n",
    "* Change the hyper-parameters and run the Gibbs Sampling algorithm for 3 iterations. Are the initial sampled GMM very similar ? Run more iterations, does the Gibbs Sampling converges to the same solution regardless of the initialization ? "
   ]
  },
  {
   "cell_type": "code",
   "execution_count": null,
   "metadata": {
    "collapsed": false
   },
   "outputs": [],
   "source": [
    "# hyper-parameters [pi_1, pi_2, ...], m, kappa, a, b\n",
    "# you may try to change this.\n",
    "bgmm = models.BayesianGMM([1, 1, 1], 0, 1, 2, 1)\n",
    "\n",
    "y_min = -0.01\n",
    "y_max = .4\n",
    "fig, ax = plotting.plotGMM(true_model, y_min=y_min, y_max=y_max, label='True model')\n",
    "\n",
    "for i in range(5):\n",
    "    # Sample the latent variables\n",
    "    Z = bgmm.sampleLatentVariables(X)\n",
    "    \n",
    "    # Update the parameters\n",
    "    bgmm.sampleMeansVariances(X, Z)\n",
    "    bgmm.sampleWeights(Z)\n",
    "    \n",
    "    # Just for plotting, this is not part of the Gibbs Sampling algorithm.\n",
    "    plotting.plotGMM(bgmm.gmm, fig=fig, ax=ax, color='b', lw=.5, label='sampled GMM')\n",
    "    \n",
    "gmm_avg = bgmm.averageGMM()\n",
    "plotting.plotGMM(gmm_avg, fig=fig, ax=ax, color='r', lw=3, label='avg GMM')\n",
    "ax.plot(X, Y, '+', color='b', label='data')\n",
    "handles, labels = ax.get_legend_handles_labels()\n",
    "labels, ids = np.unique(labels, return_index=True)\n",
    "handles = [handles[i] for i in ids]\n",
    "ax.legend(handles, labels, loc='upper left')"
   ]
  },
  {
   "cell_type": "code",
   "execution_count": null,
   "metadata": {
    "collapsed": true
   },
   "outputs": [],
   "source": []
  }
 ],
 "metadata": {
  "kernelspec": {
   "display_name": "Python 3",
   "language": "python",
   "name": "python3"
  },
  "language_info": {
   "codemirror_mode": {
    "name": "ipython",
    "version": 3
   },
   "file_extension": ".py",
   "mimetype": "text/x-python",
   "name": "python",
   "nbconvert_exporter": "python",
   "pygments_lexer": "ipython3",
   "version": "3.5.1"
  }
 },
 "nbformat": 4,
 "nbformat_minor": 0
}
